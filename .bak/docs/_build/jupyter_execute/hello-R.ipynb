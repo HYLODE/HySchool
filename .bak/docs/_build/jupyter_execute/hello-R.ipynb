{
 "cells": [
  {
   "cell_type": "markdown",
   "id": "ce37a86d-6970-45ea-84a7-d9f7feec0669",
   "metadata": {},
   "source": [
    "# R notebook example"
   ]
  },
  {
   "cell_type": "code",
   "execution_count": 1,
   "id": "50276269-3342-4139-b6df-fffff62acbc1",
   "metadata": {},
   "outputs": [
    {
     "name": "stdout",
     "output_type": "stream",
     "text": [
      "[1] 42\n"
     ]
    }
   ],
   "source": [
    "foo <- 38\n",
    "bar <- 2\n",
    "print(foo + bar^2)"
   ]
  },
  {
   "cell_type": "code",
   "execution_count": null,
   "id": "b93fd31c-9639-4764-9c4e-f6ace277c427",
   "metadata": {},
   "outputs": [],
   "source": []
  }
 ],
 "metadata": {
  "kernelspec": {
   "display_name": "R",
   "language": "R",
   "name": "ir"
  },
  "language_info": {
   "codemirror_mode": "r",
   "file_extension": ".r",
   "mimetype": "text/x-r-source",
   "name": "R",
   "pygments_lexer": "r",
   "version": "4.0.4"
  }
 },
 "nbformat": 4,
 "nbformat_minor": 5
}