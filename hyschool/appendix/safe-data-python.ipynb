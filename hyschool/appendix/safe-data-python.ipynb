{
 "cells": [
  {
   "cell_type": "code",
   "execution_count": 1,
   "id": "7b1a95c5-02f6-4a51-91c9-84d61d156dfd",
   "metadata": {
    "slideshow": {
     "slide_type": "skip"
    },
    "tags": []
   },
   "outputs": [],
   "source": [
    "# To run videos from Youtube etc\n",
    "from IPython.display import HTML, Image"
   ]
  },
  {
   "cell_type": "markdown",
   "id": "fbf1656d-56bd-4fc0-9692-674432ad402b",
   "metadata": {
    "slideshow": {
     "slide_type": "slide"
    },
    "tags": []
   },
   "source": [
    "Acknowledgement to [Safe Data Access Professionals Working Group ](https://securedatagroup.org)  \n",
    "Please review [SDC](https://doi.org/10.6084/m9.figshare.9958520) handbook  "
   ]
  },
  {
   "cell_type": "markdown",
   "id": "3278ceb2-cea7-4fef-9bed-7c10640736f4",
   "metadata": {
    "slideshow": {
     "slide_type": "slide"
    },
    "tags": []
   },
   "source": [
    "<div>\n",
    "<img src=\"figs/sdc-handbook-v1.0-pp1.png\" align=\"right\" width=\"500\"/>\n",
    "</div>"
   ]
  },
  {
   "cell_type": "markdown",
   "id": "91274a29-4c78-4171-90ed-5462bbc23278",
   "metadata": {
    "slideshow": {
     "slide_type": "slide"
    },
    "tags": []
   },
   "source": [
    "# Working with data at UCLH"
   ]
  },
  {
   "cell_type": "markdown",
   "id": "5183f8c3-da93-46ca-89ce-9d2bbf5145ea",
   "metadata": {
    "slideshow": {
     "slide_type": "subslide"
    },
    "tags": []
   },
   "source": [
    "## Five Safes\n",
    "\n",
    "We follow the ['Five Safes'](http://www2.uwe.ac.uk/faculties/BBS/Documents/1601.pdf) approach to managing data and information security. This means that we don't rely on just the 'safety' of the data but also take into account the following:"
   ]
  },
  {
   "cell_type": "markdown",
   "id": "1803f61f-8916-4c44-b80a-c2c0e32c49d0",
   "metadata": {
    "slideshow": {
     "slide_type": "subslide"
    },
    "tags": []
   },
   "source": [
    "### Safe People\n",
    "\n",
    "- all individuals have substantive contracts or educational relationships with higher education or NHS institutions\n",
    "- those working need to have evidence of experience of working with such data (e.g. previous training, previous work with ONS, data safe havens etc.) or they need a supervisor who can has similar experience\n",
    "- those working need to undergo training in information governance and issues with statistical disclosure control (SDC)"
   ]
  },
  {
   "cell_type": "markdown",
   "id": "889f8824-f360-4a09-8a9e-4d04f9aa6743",
   "metadata": {
    "slideshow": {
     "slide_type": "subslide"
    },
    "tags": []
   },
   "source": [
    "### Safe Projects\n",
    "\n",
    "- projects must 'serve the public good' \n",
    "- projects must meet relevant HRA and UCLH research and ethics approvals\n",
    "- service delivery work mandated as per usual trust processes"
   ]
  },
  {
   "cell_type": "markdown",
   "id": "09ed2adf-b2c2-40e4-959f-7aba18fbee8f",
   "metadata": {
    "slideshow": {
     "slide_type": "subslide"
    },
    "tags": []
   },
   "source": [
    "### Safe Settings\n",
    "\n",
    "- working at UCLH in the NHS on approved infrastructure\n",
    "- UCLH local and remote desktops\n",
    "- UCLH Data Science Desktop\n",
    "- Generic Application Development Environment (GADE)"
   ]
  },
  {
   "cell_type": "markdown",
   "id": "646219f7-5b80-4255-8031-926c8793ff24",
   "metadata": {
    "slideshow": {
     "slide_type": "subslide"
    },
    "tags": []
   },
   "source": [
    "### Safe Outputs\n",
    "\n",
    "- outputs (e.g. reports, figures and tables) must be non-disclosing \n",
    "- outputs should remain on NHS systems initially\n",
    "- a copy of all outputs that are released externally (documents) should be stored in one central location so that there is visibility for all"
   ]
  },
  {
   "cell_type": "markdown",
   "id": "4e6eea88-f25f-49b8-9c11-be4973adb55c",
   "metadata": {
    "slideshow": {
     "slide_type": "subslide"
    },
    "tags": []
   },
   "source": [
    "### Safe Data\n",
    "\n",
    "- direct identifiers (hospital numbers, NHS numbers, names etc) should be masked unless there is an explicit justification for their use\n",
    "- data releases are proportionate (e.g. limited by calendar periods, by patient cohort etc.)\n",
    "- further work to obscure or mask the data is not necessary given the other safe guards (as per the recommendation by the UK data service)"
   ]
  },
  {
   "cell_type": "code",
   "execution_count": 7,
   "id": "4d3515ee-2210-4213-8900-d7c07649a1b5",
   "metadata": {
    "jp-MarkdownHeadingCollapsed": true,
    "slideshow": {
     "slide_type": "slide",
     "tags": [
      "to_remove"
     ]
    },
    "tags": []
   },
   "outputs": [
    {
     "data": {
      "text/html": [
       "<iframe width=\"560\" height=\"315\" src=\"https://www.youtube.com/embed/Mln9T52mwj0?rel=0&amp;controls=0&amp;showinfo=0\" frameborder=\"0\" allowfullscreen></iframe>\n"
      ],
      "text/plain": [
       "<IPython.core.display.HTML object>"
      ]
     },
     "metadata": {},
     "output_type": "display_data"
    }
   ],
   "source": [
    "%%HTML\n",
    "<iframe width=\"560\" height=\"315\" src=\"https://www.youtube.com/embed/Mln9T52mwj0?rel=0&amp;controls=0&amp;showinfo=0\" frameborder=\"0\" allowfullscreen></iframe>"
   ]
  },
  {
   "cell_type": "markdown",
   "id": "f9db554f-0802-4931-8a18-80ae5c6d3c1c",
   "metadata": {
    "slideshow": {
     "slide_type": "slide"
    },
    "tags": []
   },
   "source": [
    "## Five safes at UCLH"
   ]
  },
  {
   "cell_type": "markdown",
   "id": "661fcec7-06da-4d9b-8fbf-fe0172a7c1b2",
   "metadata": {
    "slideshow": {
     "slide_type": "subslide"
    },
    "tags": []
   },
   "source": [
    "Practically although this means that we are judging your data safety on _more_ than just the qualities of the data, we are able to work with data that would otherwise be considered unsafe. The plot below demonstrates this by comparing the effort we would have to expend on safety if we wanted to release data on the internet. This means that we lose all the other 4 safes."
   ]
  },
  {
   "cell_type": "markdown",
   "id": "a883752d-b051-44f3-b081-37b0d03d1bb1",
   "metadata": {
    "slideshow": {
     "slide_type": "subslide"
    },
    "tags": []
   },
   "source": [
    "![](../figs/five-safes-uclh-radar.png)"
   ]
  },
  {
   "cell_type": "markdown",
   "id": "765ad332-c690-429b-9bb7-4fedc2c3f1a0",
   "metadata": {
    "slideshow": {
     "slide_type": "slide"
    },
    "tags": []
   },
   "source": [
    "# Safe data without the other 4 safes\n",
    "\n",
    "- Anonymisation `<-`\n",
    "- Pseudonymisation\n",
    "- De-identification "
   ]
  },
  {
   "cell_type": "markdown",
   "id": "ce78492d-e9ea-4f95-83e5-5d9220dc82b1",
   "metadata": {
    "slideshow": {
     "slide_type": "slide"
    },
    "tags": []
   },
   "source": [
    "## Anonymisation (is _really_ hard)\n",
    "\n",
    "Methods include Generalised Adversarial Networks, differentially-private Bayesian generative models, and Statistical Disclosure Control"
   ]
  },
  {
   "cell_type": "markdown",
   "id": "48cf6303-ad61-43bc-bfb2-cd8159a77149",
   "metadata": {
    "slideshow": {
     "slide_type": "subslide"
    },
    "tags": []
   },
   "source": [
    "### Statistical Disclosure Control\n",
    "\n",
    "Set thresholds for\n",
    "\n",
    "- *k-anonymity*: counts the number of individuals identified by the intersection of key variables\n",
    "- *l-diversity*: counts how varied other sensitive fields are within a k-anonymous group\n",
    "\n",
    "Then define\n",
    "\n",
    "- direct identifiers\n",
    "- key variables (indirect identifiers)\n",
    "- sensitive fields\n",
    "- non-identifying variables"
   ]
  },
  {
   "cell_type": "markdown",
   "id": "abca3452-2185-4b70-b5af-ff927ace3db1",
   "metadata": {
    "slideshow": {
     "slide_type": "subslide"
    },
    "tags": []
   },
   "source": [
    "![](figs/cchic-anon-1.png)"
   ]
  },
  {
   "cell_type": "markdown",
   "id": "fc553623-07b2-4307-a29a-79045085067e",
   "metadata": {
    "slideshow": {
     "slide_type": "subslide"
    },
    "tags": []
   },
   "source": [
    "![](figs/cchic-anon-2.png)"
   ]
  },
  {
   "cell_type": "markdown",
   "id": "77eacd04-b2e2-4dd2-a436-0c937392e9c9",
   "metadata": {
    "slideshow": {
     "slide_type": "slide"
    },
    "tags": []
   },
   "source": [
    "# Safe outputs"
   ]
  },
  {
   "cell_type": "markdown",
   "id": "ae42db9c-50b6-4dbe-adad-10e05f363656",
   "metadata": {
    "slideshow": {
     "slide_type": "subslide"
    },
    "tags": []
   },
   "source": [
    "Some terminology\n",
    "\n",
    "- Rules-based \n",
    "> Users are given a set of fixed rules about what can and cannot be released, if the statistical output presented by the user meets the criteria it is released.\n",
    "- Principles-based\n",
    "> An assessment of risk takes place, and a decision is made as to whether the statistical output presented ‘safe’ to release or not? (in accordance with the Five Safes ‘Safe Output’ element)."
   ]
  },
  {
   "cell_type": "markdown",
   "id": "c97c96a3-8113-431e-adc7-53d17e49c25a",
   "metadata": {
    "slideshow": {
     "slide_type": "subslide"
    },
    "tags": []
   },
   "source": [
    "- Primary disclosure\n",
    "> Inferring the identity, and/or information about, a data subject from a single source of data.\n",
    "Spontaneous recognition.\n",
    "- Secondary disclosure (‘attribute’)\n",
    "> Deriving the identity, and/or information of, a data subjecting by combining two or more sources of information together."
   ]
  },
  {
   "cell_type": "markdown",
   "id": "5bbd2661-fbe7-490a-aa16-6ac146e798d2",
   "metadata": {
    "slideshow": {
     "slide_type": "subslide"
    },
    "tags": []
   },
   "source": [
    "## Frequency tables\n",
    "\n",
    "Rules-based\n",
    "- Minimum cell count \n",
    "- All counts should be unweighted\n",
    "\n",
    "Principles-based\n",
    "- Threshold is a ‘rule-of-thumb’\n",
    "- The units and data being presented should be considered\n",
    "\n",
    "Frequencies can be presented in many different ways including tables, histograms, pie charts, bar charts. The guidance for frequency tables will also apply for these.\n"
   ]
  },
  {
   "cell_type": "markdown",
   "id": "b1307644-0db7-45f8-be94-435ff5d5fcba",
   "metadata": {
    "slideshow": {
     "slide_type": "subslide"
    },
    "tags": []
   },
   "source": [
    "![](figs/five-safes-freq-table-1.png)"
   ]
  },
  {
   "cell_type": "markdown",
   "id": "a1c1e69b-4064-4604-a542-cad40cb65bdb",
   "metadata": {
    "slideshow": {
     "slide_type": "subslide"
    },
    "tags": []
   },
   "source": [
    "![](figs/five-safes-freq-table-2.png)"
   ]
  },
  {
   "cell_type": "markdown",
   "id": "0df36521-5a7e-4fe9-b9e4-d2d8b27d4ce3",
   "metadata": {
    "slideshow": {
     "slide_type": "slide"
    },
    "tags": []
   },
   "source": [
    "## Graphs and Figures\n",
    "\n",
    "Example issues include\n",
    "\n",
    "- histograms: often low counts in the tails of the distribution, the maximum and minimum values may also be shown.\n",
    "- scatter plots: by definition are plots of individuals (also residual plots); consider grouping"
   ]
  },
  {
   "cell_type": "markdown",
   "id": "1af7deae-9f0e-4b72-8d2b-6a794db514df",
   "metadata": {
    "slideshow": {
     "slide_type": "subslide"
    },
    "tags": []
   },
   "source": [
    "![](figs/five-safes-freq-scatter-1.png)"
   ]
  },
  {
   "cell_type": "markdown",
   "id": "e4abc7d9-96f0-4388-9a62-ca5b3e9c850d",
   "metadata": {
    "slideshow": {
     "slide_type": "subslide"
    },
    "tags": []
   },
   "source": [
    "![](figs/five-safes-freq-scatter-2.png)"
   ]
  },
  {
   "cell_type": "markdown",
   "id": "37b7399f-7608-47e4-a32a-6e6df61d3fb2",
   "metadata": {
    "slideshow": {
     "slide_type": "slide"
    },
    "tags": []
   },
   "source": [
    "## Four eyes principle"
   ]
  },
  {
   "cell_type": "markdown",
   "id": "0d111bfa-1a51-43d1-90cb-90c0b6af7f29",
   "metadata": {
    "slideshow": {
     "slide_type": "slide"
    },
    "tags": []
   },
   "source": [
    "# Practical tips"
   ]
  },
  {
   "cell_type": "markdown",
   "id": "a73fbd5f-e3b1-456e-854a-c7d6d43eacc3",
   "metadata": {
    "slideshow": {
     "slide_type": "subslide"
    },
    "tags": []
   },
   "source": [
    "![](figs/safe-ide.png)"
   ]
  },
  {
   "cell_type": "markdown",
   "id": "a92a3ef3-0e78-4013-9c36-1da6e6840d80",
   "metadata": {
    "slideshow": {
     "slide_type": "slide"
    },
    "tags": []
   },
   "source": [
    "## `.gitignore` is your friend\n",
    "\n",
    "```yaml\n",
    "# Jupyter Notebook\n",
    ".ipynb_checkpoints\n",
    "\n",
    "# secret\n",
    "secret*\n",
    ".env\n",
    "\n",
    "# scratches\n",
    "scratch.ipynb\n",
    "Untitled.ipynb\n",
    "labbooks/*\n",
    "tmp/*\n",
    "```"
   ]
  },
  {
   "cell_type": "markdown",
   "id": "f7077020-ea9d-4800-b835-9de60a689c93",
   "metadata": {
    "slideshow": {
     "slide_type": "slide"
    },
    "tags": []
   },
   "source": [
    "## Do not 'hard code' usernames and passwords\n",
    "\n",
    "Use a `.env` file (or `secrets` or similar)\n",
    "Exclude from git via `.gitignore`\n",
    "\n",
    "```sh\n",
    "# edit this file and replace with actual usernames and passwords\n",
    "# then save WITH the dot prefix e.g. env --> .env\n",
    "\n",
    "# DO NOT SAVE as env (without the dot prefix) \n",
    "# else you will publish your secrets to github\n",
    "\n",
    "# environment variables\n",
    "EMAP_DB_USER=YOUR_USERNAME_HERE\n",
    "EMAP_DB_PASSWORD=YOUR_PASSWORD_HERE\n",
    "```"
   ]
  },
  {
   "cell_type": "markdown",
   "id": "506fa58d-034c-4340-bbd7-f13203a9fb17",
   "metadata": {
    "slideshow": {
     "slide_type": "subslide"
    },
    "tags": []
   },
   "source": [
    "### Load your environment variables in Python"
   ]
  },
  {
   "cell_type": "code",
   "execution_count": null,
   "id": "50821c48-8ef2-4e89-8117-c3d8621e6c00",
   "metadata": {
    "slideshow": {
     "slide_type": "subslide"
    },
    "tags": []
   },
   "outputs": [],
   "source": [
    "from dotenv import load_dotenv\n",
    "load_dotenv('.env')"
   ]
  },
  {
   "cell_type": "markdown",
   "id": "e730104d-ee5a-4fcd-9101-e99e0a196cf2",
   "metadata": {
    "slideshow": {
     "slide_type": "subslide"
    },
    "tags": []
   },
   "source": [
    "A template JupyterNotebook for working with data at UCLH. The following features of this notebook, and associated files are documented here to minimise the risk of data leaks or other incidents.\n",
    "\n",
    "- Usernames and passwords are stored in a .env file that is excluded from version control. The example `env` file at `./config/env` should be edited and saved as `./config/.env`. A utility function `load_env_vars()` is provided that will confirm this file exists and load the configuration into the working environment.\n",
    "- .gitattributes are set to strip JupyterNotebook cells when pushing to GitHub"
   ]
  },
  {
   "cell_type": "code",
   "execution_count": null,
   "id": "b7ddc3ac-421b-45b0-82ea-f2f5b55e4b14",
   "metadata": {
    "slideshow": {
     "slide_type": "subslide"
    },
    "tags": []
   },
   "outputs": [],
   "source": [
    "import os\n",
    "from dotenv import load_dotenv\n",
    "from pathlib import Path\n",
    "\n",
    "def load_env_vars(\n",
    "    ENV_FILE_ID = 'rainy.fever.song',\n",
    "    dotenv_path = './config/.env'\n",
    "                 ):\n",
    "    \"\"\"\n",
    "    Load environment variables or raise error if the file is not found\n",
    "    \"\"\"\n",
    "    dotenv_path = Path(dotenv_path)\n",
    "    load_dotenv(dotenv_path=dotenv_path)\n",
    "\n",
    "    if os.getenv('ENV_FILE_ID') != ENV_FILE_ID:\n",
    "        raise FileNotFoundError(\"\"\"\n",
    "        IMPORTANT\n",
    "        An environment file holding the ENV_FILE_ID variable equal to 'rainy.fever.song'\n",
    "        should have been found at the ./config/.env path.\n",
    "\n",
    "        Is the script being run from the repository root (emap-helper/)?\n",
    "        Did you convert the example 'env' file to the '.env' file?\n",
    "\n",
    "        Please check the above and try again \n",
    "        \"\"\")\n",
    "    else:\n",
    "        return True"
   ]
  },
  {
   "cell_type": "code",
   "execution_count": null,
   "id": "f783595a-2e35-498e-9706-e7923dca6ea9",
   "metadata": {
    "slideshow": {
     "slide_type": "subslide"
    },
    "tags": []
   },
   "outputs": [],
   "source": [
    "from sqlalchemy import create_engine\n",
    "\n",
    "def make_emap_engine(db):\n",
    "    # Load environment variables\n",
    "    load_env_vars()\n",
    "    \n",
    "    if db == 'uds':\n",
    "        # expects to run in HYLODE so these are part of this env\n",
    "        host = os.getenv('EMAP_DB_HOST')\n",
    "        name = os.getenv('EMAP_DB_NAME')\n",
    "        port = os.getenv('EMAP_DB_PORT')\n",
    "        user = os.getenv('EMAP_DB_USER')\n",
    "        passwd = os.getenv('EMAP_DB_PASSWORD')\n",
    "    elif db == 'ids':\n",
    "        host = os.getenv('IDS_DB_HOST')\n",
    "        name = os.getenv('IDS_DB_NAME')\n",
    "        port = os.getenv('IDS_DB_PORT')\n",
    "        user = os.getenv('IDS_DB_USER')\n",
    "        passwd = os.getenv('IDS_DB_PASSWORD')\n",
    "    else:\n",
    "        raise ValueError(\"db is not recognised; should be one of 'uds' or 'ids'\")\n",
    "        \n",
    "    # Construct the PostgreSQL connection\n",
    "    emapdb_engine = create_engine(f'postgresql://{user}:{passwd}@{host}:{port}/{name}')\n",
    "    return emapdb_engine\n"
   ]
  },
  {
   "cell_type": "markdown",
   "id": "1ba67b7b-06e7-471c-943d-a00d2b940619",
   "metadata": {
    "slideshow": {
     "slide_type": "slide"
    },
    "tags": []
   },
   "source": [
    "## Do not leak from Jupyter Notebooks"
   ]
  },
  {
   "cell_type": "markdown",
   "id": "3b1b3375-54f1-48a6-9821-da2a33ba2107",
   "metadata": {
    "slideshow": {
     "slide_type": "subslide"
    },
    "tags": []
   },
   "source": [
    "## `.gitattributes` to strip outputs from cells in a notebook\n",
    "```sh\n",
    "*.ipynb filter=strip-notebook-output\n",
    "```"
   ]
  },
  {
   "cell_type": "markdown",
   "id": "e858afef-dcea-4e5b-9137-07629ac5a0e1",
   "metadata": {
    "slideshow": {
     "slide_type": "slide"
    },
    "tags": []
   },
   "source": [
    "## For R ..."
   ]
  },
  {
   "cell_type": "markdown",
   "id": "c64eede2-8233-434a-80ee-550d31fdb71f",
   "metadata": {
    "slideshow": {
     "slide_type": "subslide"
    },
    "tags": []
   },
   "source": [
    "Use `.Renviron` as you would `.env` but it is automatically 'read' by R when it starts\n",
    "\n",
    "```R\n",
    "# IMPORTANT\n",
    "# DO NOT ADD THE .Renviron VERSION OF THIS FILE TO VERSION CONTROL\n",
    "# RENAME from dotrenviron to .Renviron in place and then update the\n",
    "# environment variables with actual values\n",
    "\n",
    "# IDS access\n",
    "IDS_PWD=foo\n",
    "IDS_HOST=bar\n",
    "IDS_USER=me\n",
    "\n",
    "# UDS access\n",
    "UDS_PWD=foo\n",
    "UDS_HOST=bar\n",
    "UDS_USER=me\n",
    "\n",
    "# Internet access\n",
    "http_proxy=http://my-hospital.nhs.uk:1234/\n",
    "HTTP_PROXY=http://my-hospital.nhs.uk:1234/\n",
    "https_proxy=http://my-hospital.nhs.uk:1234/\n",
    "HTTPS_PROXY=http://my-hospital.nhs.uk:1234/\n",
    "\n",
    "\n",
    "# https://rstudio.github.io/renv/articles/docker.html\n",
    "RENV_PATHS_CACHE=/home/rstudio/renv\n",
    "```"
   ]
  },
  {
   "cell_type": "markdown",
   "id": "1ba0f652-9111-42f5-8094-d826d90bf6b9",
   "metadata": {
    "slideshow": {
     "slide_type": "slide"
    },
    "tags": []
   },
   "source": [
    "# The End"
   ]
  },
  {
   "cell_type": "markdown",
   "id": "d06c4884-1fa1-46e9-afda-8d3e4b53eb15",
   "metadata": {},
   "source": [
    "A template JupyterNotebook for working with data at UCLH. The following features of this notebook, and associated files are documented here to minimise the risk of data leaks or other incidents.\n",
    "\n",
    "- Usernames and passwords are stored in a .env file that is excluded from version control. The example `env` file at `./config/env` should be edited and saved as `./config/.env`. A utility function `load_env_vars()` is provided that will confirm this file exists and load the configuration into the working environment.\n",
    "- .gitattributes are set to strip JupyterNotebook cells when pushing to GitHub"
   ]
  },
  {
   "cell_type": "code",
   "execution_count": null,
   "id": "df58e2cc-320f-4c6e-97cb-130770ebc5ca",
   "metadata": {},
   "outputs": [],
   "source": []
  }
 ],
 "metadata": {
  "kernelspec": {
   "display_name": "Python 3 (ipykernel)",
   "language": "python",
   "name": "python3"
  },
  "language_info": {
   "codemirror_mode": {
    "name": "ipython",
    "version": 3
   },
   "file_extension": ".py",
   "mimetype": "text/x-python",
   "name": "python",
   "nbconvert_exporter": "python",
   "pygments_lexer": "ipython3",
   "version": "3.9.13"
  },
  "toc-autonumbering": true,
  "toc-showtags": false
 },
 "nbformat": 4,
 "nbformat_minor": 5
}
