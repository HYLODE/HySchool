{
 "cells": [
  {
   "cell_type": "markdown",
   "id": "5efd1b4a-a275-4bdc-9813-a6ae534f6441",
   "metadata": {},
   "source": [
    "Exercises and solutions available [here](http://allendowney.github.io/ThinkBayes2/chap02.html)"
   ]
  },
  {
   "cell_type": "code",
   "execution_count": 5,
   "id": "16055dce-a31e-460e-802f-654eceb01ebb",
   "metadata": {},
   "outputs": [],
   "source": [
    "import pandas as pd"
   ]
  },
  {
   "cell_type": "code",
   "execution_count": 6,
   "id": "ae83657e-b43c-48ba-a8bc-d12b329acb6a",
   "metadata": {},
   "outputs": [],
   "source": [
    "def update(table):\n",
    "    \"\"\"Compute the posterior probabilities.\n",
    "    Table index = labels for each level of prior\n",
    "    Table columns = [prior, likelihood]\n",
    "    Table rows = prior values\n",
    "    \"\"\"\n",
    "    table['unnorm'] = table['prior'] * table['likelihood']\n",
    "    # Generate a 'normalising constant' to return to the probability scale\n",
    "    prob_data = table['unnorm'].sum()\n",
    "    table['posterior'] = table['unnorm'] / prob_data\n",
    "    return prob_data"
   ]
  },
  {
   "cell_type": "markdown",
   "id": "b19f61e1-29cd-4a0a-9c4e-38bfd97fb3e5",
   "metadata": {},
   "source": [
    "**Exercise:** Suppose you have two coins in a box. One is a normal coin with heads on one side and tails on the other, and one is a trick coin with heads on both sides. You choose a coin at random and see that one of the sides is heads. What is the probability that you chose the trick coin?"
   ]
  },
  {
   "cell_type": "markdown",
   "id": "d6cd8467-99fe-4126-8b0c-e04fe266c564",
   "metadata": {},
   "source": [
    "**Notes:**\n",
    "\n",
    "- you observed 1 head\n",
    "- Pr(head|trick)=1\n",
    "- Pr(head|normal)=0.5\n",
    "\n",
    "You wish to know Pr(trick|head). So\n",
    "- Pr(trick) = 0.5\n",
    "- Pr(normal) = 0.5\n",
    "\n",
    "The likelihood is the prob of the data from the model.\n",
    "Prob of head given trick is 1\n",
    "\n",
    "\n",
    "1. Then by Bayes = prior * likelihood / total\n",
    "2. prior (0.5) * likelihood (1) / ((0.5 * 1) + (0.5 * 0.5)) where the denominator sums all the ways the data could arise for all possible values of the prior.\n",
    "3. 0.5 / (0.5 + 0.25) = 2/3"
   ]
  },
  {
   "cell_type": "code",
   "execution_count": 7,
   "id": "952890b6-697d-4150-8ff9-fa19727e8885",
   "metadata": {},
   "outputs": [
    {
     "data": {
      "text/html": [
       "<div>\n",
       "<style scoped>\n",
       "    .dataframe tbody tr th:only-of-type {\n",
       "        vertical-align: middle;\n",
       "    }\n",
       "\n",
       "    .dataframe tbody tr th {\n",
       "        vertical-align: top;\n",
       "    }\n",
       "\n",
       "    .dataframe thead th {\n",
       "        text-align: right;\n",
       "    }\n",
       "</style>\n",
       "<table border=\"1\" class=\"dataframe\">\n",
       "  <thead>\n",
       "    <tr style=\"text-align: right;\">\n",
       "      <th></th>\n",
       "      <th>prior</th>\n",
       "      <th>likelihood</th>\n",
       "      <th>unnorm</th>\n",
       "      <th>posterior</th>\n",
       "    </tr>\n",
       "  </thead>\n",
       "  <tbody>\n",
       "    <tr>\n",
       "      <th>Normal</th>\n",
       "      <td>0.5</td>\n",
       "      <td>0.5</td>\n",
       "      <td>0.25</td>\n",
       "      <td>0.333333</td>\n",
       "    </tr>\n",
       "    <tr>\n",
       "      <th>Trick</th>\n",
       "      <td>0.5</td>\n",
       "      <td>1.0</td>\n",
       "      <td>0.50</td>\n",
       "      <td>0.666667</td>\n",
       "    </tr>\n",
       "  </tbody>\n",
       "</table>\n",
       "</div>"
      ],
      "text/plain": [
       "        prior  likelihood  unnorm  posterior\n",
       "Normal    0.5         0.5    0.25   0.333333\n",
       "Trick     0.5         1.0    0.50   0.666667"
      ]
     },
     "execution_count": 7,
     "metadata": {},
     "output_type": "execute_result"
    }
   ],
   "source": [
    "# Solution\n",
    "\n",
    "table4 = pd.DataFrame(index=['Normal', 'Trick'])\n",
    "table4['prior'] = 1/2\n",
    "table4['likelihood'] = 1/2, 1\n",
    "\n",
    "update(table4)\n",
    "table4"
   ]
  },
  {
   "cell_type": "code",
   "execution_count": null,
   "id": "2a5e4d43-895c-49ab-8c0a-6a5683281a26",
   "metadata": {},
   "outputs": [],
   "source": []
  }
 ],
 "metadata": {
  "kernelspec": {
   "display_name": "Python 3 (ipykernel)",
   "language": "python",
   "name": "python3"
  },
  "language_info": {
   "codemirror_mode": {
    "name": "ipython",
    "version": 3
   },
   "file_extension": ".py",
   "mimetype": "text/x-python",
   "name": "python",
   "nbconvert_exporter": "python",
   "pygments_lexer": "ipython3",
   "version": "3.9.13"
  }
 },
 "nbformat": 4,
 "nbformat_minor": 5
}
