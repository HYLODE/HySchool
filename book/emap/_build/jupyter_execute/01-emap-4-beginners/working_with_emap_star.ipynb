{
 "cells": [
  {
   "cell_type": "markdown",
   "id": "73201884-5561-4b6c-8e7a-94c25f169d67",
   "metadata": {},
   "source": [
    "# Working with EMAP star"
   ]
  },
  {
   "cell_type": "markdown",
   "id": "6bfc003f-b6d4-4506-87c7-f95483063da6",
   "metadata": {},
   "source": [
    "A template JupyterNotebook for working with EMAP. The following features of this notebook, and associated files are documented here to minimise the risk of data leaks or other incidents.\n",
    "\n",
    "- Usernames and passwords are stored in a .env file that is excluded from version control. The example `env` file at `./config/env` should be edited and saved as `./config/.env`. A utility function `load_env_vars()` is provided that will confirm this file exists and load the configuration into the working environment.\n",
    "- .gitattributes are set to strip JupyterNotebook cells when pushing to GitHub"
   ]
  },
  {
   "cell_type": "markdown",
   "id": "4855cc63-3c75-4c19-9577-9ce1775e83cc",
   "metadata": {},
   "source": [
    "## Basic set-up"
   ]
  },
  {
   "cell_type": "markdown",
   "id": "6ad06f26-b33a-4798-bc83-a3970319535b",
   "metadata": {},
   "source": [
    "Load libraries"
   ]
  },
  {
   "cell_type": "code",
   "execution_count": 1,
   "id": "18c86db5-4bfd-426d-9209-7f2c67723c04",
   "metadata": {
    "execution": {
     "iopub.execute_input": "2021-09-22T22:14:04.622709Z",
     "iopub.status.busy": "2021-09-22T22:14:04.622118Z",
     "iopub.status.idle": "2021-09-22T22:14:05.263323Z",
     "shell.execute_reply": "2021-09-22T22:14:05.262709Z",
     "shell.execute_reply.started": "2021-09-22T22:14:04.622625Z"
    },
    "tags": []
   },
   "outputs": [
    {
     "ename": "ModuleNotFoundError",
     "evalue": "No module named 'utils'",
     "output_type": "error",
     "traceback": [
      "\u001b[0;31m---------------------------------------------------------------------------\u001b[0m",
      "\u001b[0;31mModuleNotFoundError\u001b[0m                       Traceback (most recent call last)",
      "\u001b[0;32m/var/folders/8p/5pp9mtfs287556rfl2mj_rrw0000gn/T/ipykernel_64475/912949105.py\u001b[0m in \u001b[0;36m<module>\u001b[0;34m\u001b[0m\n\u001b[1;32m      6\u001b[0m \u001b[0;32mfrom\u001b[0m \u001b[0mpathlib\u001b[0m \u001b[0;32mimport\u001b[0m \u001b[0mPath\u001b[0m\u001b[0;34m\u001b[0m\u001b[0;34m\u001b[0m\u001b[0m\n\u001b[1;32m      7\u001b[0m \u001b[0;32mfrom\u001b[0m \u001b[0msqlalchemy\u001b[0m \u001b[0;32mimport\u001b[0m \u001b[0mcreate_engine\u001b[0m\u001b[0;34m\u001b[0m\u001b[0;34m\u001b[0m\u001b[0m\n\u001b[0;32m----> 8\u001b[0;31m \u001b[0;32mfrom\u001b[0m \u001b[0mutils\u001b[0m\u001b[0;34m.\u001b[0m\u001b[0msetup\u001b[0m \u001b[0;32mimport\u001b[0m \u001b[0mload_env_vars\u001b[0m\u001b[0;34m\u001b[0m\u001b[0;34m\u001b[0m\u001b[0m\n\u001b[0m",
      "\u001b[0;31mModuleNotFoundError\u001b[0m: No module named 'utils'"
     ]
    }
   ],
   "source": [
    "import os\n",
    "import matplotlib.pyplot as plt\n",
    "import numpy as np\n",
    "import pandas as pd\n",
    "\n",
    "from pathlib import Path\n",
    "from sqlalchemy import create_engine\n",
    "from utils.setup import load_env_vars"
   ]
  },
  {
   "cell_type": "markdown",
   "id": "fd187f27-949f-4d33-8051-388ec3a45953",
   "metadata": {
    "execution": {
     "iopub.execute_input": "2021-09-22T21:58:10.979482Z",
     "iopub.status.busy": "2021-09-22T21:58:10.979109Z",
     "iopub.status.idle": "2021-09-22T21:58:10.984761Z",
     "shell.execute_reply": "2021-09-22T21:58:10.983337Z",
     "shell.execute_reply.started": "2021-09-22T21:58:10.979452Z"
    }
   },
   "source": [
    "Load environment variables and set-up SQLAlchemy connection engine for the EMAP Star"
   ]
  },
  {
   "cell_type": "code",
   "execution_count": null,
   "id": "8a484ab1-3f8b-4111-b5df-6e29fc1d4a45",
   "metadata": {
    "execution": {
     "iopub.execute_input": "2021-09-22T22:14:31.304562Z",
     "iopub.status.busy": "2021-09-22T22:14:31.303759Z",
     "iopub.status.idle": "2021-09-22T22:14:31.342722Z",
     "shell.execute_reply": "2021-09-22T22:14:31.341529Z",
     "shell.execute_reply.started": "2021-09-22T22:14:31.304513Z"
    },
    "tags": []
   },
   "outputs": [],
   "source": [
    "# Load environment variables\n",
    "load_env_vars()\n",
    "\n",
    "# Construct the PostgreSQL connection\n",
    "uds_host = os.getenv('EMAP_DB_HOST')\n",
    "uds_name = os.getenv('EMAP_DB_NAME')\n",
    "uds_port = os.getenv('EMAP_DB_PORT')\n",
    "uds_user = os.getenv('EMAP_DB_USER')\n",
    "uds_passwd = os.getenv('EMAP_DB_PASSWORD')\n",
    "\n",
    "emapdb_engine = create_engine(f'postgresql://{uds_user}:{uds_passwd}@{uds_host}:{uds_port}/{uds_name}')"
   ]
  },
  {
   "cell_type": "markdown",
   "id": "f72d3648-7639-4cfb-a372-b0f569c873ac",
   "metadata": {
    "execution": {
     "iopub.execute_input": "2021-09-22T22:14:06.698843Z",
     "iopub.status.busy": "2021-09-22T22:14:06.698503Z",
     "iopub.status.idle": "2021-09-22T22:14:06.702450Z",
     "shell.execute_reply": "2021-09-22T22:14:06.701820Z",
     "shell.execute_reply.started": "2021-09-22T22:14:06.698814Z"
    },
    "tags": []
   },
   "source": [
    "The above code is also abstracted into a function (below) but shown in long form above to make clear what we are doing.\n",
    "```python\n",
    "from utils.setup import make_emap_engine\n",
    "emapdb_engine = make_emap_engine\n",
    "```"
   ]
  },
  {
   "cell_type": "markdown",
   "id": "30ce5471-7e0e-45d8-a32d-ae04cc1a4f28",
   "metadata": {},
   "source": [
    "Now use the connection to work with EMAP.\\\n",
    "\n",
    "For example, let's inspect patients currently in ED or Resus.\n",
    "\n",
    "Here's the SQL:\n",
    "\n",
    "```sql\n",
    "-- Example script \n",
    "-- to pick out patients currently in A&E resus or majors\n",
    "\n",
    "SELECT\n",
    "   vd.location_visit_id\n",
    "  ,vd.hospital_visit_id\n",
    "  ,vd.location_id\n",
    "  -- ugly HL7 location string \n",
    "  ,lo.location_string\n",
    "  -- time admitted to that bed/theatre/scan etc.\n",
    "  ,vd.admission_time\n",
    "  -- time discharged from that bed\n",
    "  ,vd.discharge_time\n",
    "\n",
    "FROM star.location_visit vd\n",
    "-- location label\n",
    "INNER JOIN star.location lo ON vd.location_id = lo.location_id\n",
    "WHERE \n",
    "-- last few hours\n",
    "vd.admission_time > NOW() - '12 HOURS'::INTERVAL\t\n",
    "-- just CURRENT patients\n",
    "AND\n",
    "vd.discharge_time IS NULL\n",
    "-- filter out just ED and Resus or Majors\n",
    "AND\n",
    "-- unpacking the HL7 string formatted as \n",
    "-- Department^Ward^Bed string\n",
    "SPLIT_PART(lo.location_string,'^',1) = 'ED'\n",
    "AND\n",
    "SPLIT_PART(lo.location_string,'^',2) ~ '(RESUS|MAJORS)'\n",
    "-- sort\n",
    "ORDER BY lo.location_string\n",
    ";\n",
    "\n",
    "```\n"
   ]
  },
  {
   "cell_type": "markdown",
   "id": "835a5624-d5eb-4425-8c47-1451723f0c2a",
   "metadata": {},
   "source": [
    "The SQL script is stored at `./snippets/sql-vignettes/current_bed.sql`.\\\n",
    "We can load the script, and read the results into a Pandas dataframe.\n"
   ]
  },
  {
   "cell_type": "code",
   "execution_count": null,
   "id": "f948b8d7-749b-4ce4-85f6-685bd04b76db",
   "metadata": {
    "execution": {
     "iopub.execute_input": "2021-09-22T22:30:51.157460Z",
     "iopub.status.busy": "2021-09-22T22:30:51.156813Z",
     "iopub.status.idle": "2021-09-22T22:30:51.298784Z",
     "shell.execute_reply": "2021-09-22T22:30:51.298131Z",
     "shell.execute_reply.started": "2021-09-22T22:30:51.157414Z"
    },
    "tags": []
   },
   "outputs": [],
   "source": [
    "# Read the sql file into a query 'q' and the query into a dataframe\n",
    "q = Path('./snippets/sql-vignettes/current_bed.sql').read_text()\n",
    "df = pd.read_sql_query(q, emapdb_engine)"
   ]
  },
  {
   "cell_type": "code",
   "execution_count": null,
   "id": "1e75965b-a1ca-47b7-8f86-cca7e71b26bf",
   "metadata": {
    "execution": {
     "iopub.execute_input": "2021-09-22T22:30:09.898817Z",
     "iopub.status.busy": "2021-09-22T22:30:09.898188Z",
     "iopub.status.idle": "2021-09-22T22:30:09.909917Z",
     "shell.execute_reply": "2021-09-22T22:30:09.909259Z",
     "shell.execute_reply.started": "2021-09-22T22:30:09.898788Z"
    }
   },
   "outputs": [],
   "source": [
    "df.head()"
   ]
  },
  {
   "cell_type": "code",
   "execution_count": null,
   "id": "81d4a5d0-1c37-4c96-a48f-3af0a629b7ed",
   "metadata": {},
   "outputs": [],
   "source": []
  }
 ],
 "metadata": {
  "kernelspec": {
   "display_name": "Python 3",
   "language": "python",
   "name": "python3"
  },
  "language_info": {
   "codemirror_mode": {
    "name": "ipython",
    "version": 3
   },
   "file_extension": ".py",
   "mimetype": "text/x-python",
   "name": "python",
   "nbconvert_exporter": "python",
   "pygments_lexer": "ipython3",
   "version": "3.8.10"
  }
 },
 "nbformat": 4,
 "nbformat_minor": 5
}