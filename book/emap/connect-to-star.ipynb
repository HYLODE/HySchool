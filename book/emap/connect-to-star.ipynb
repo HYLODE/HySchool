{
 "cells": [
  {
   "cell_type": "markdown",
   "id": "5c40cd43-2af6-4d44-87f1-6db2ec8c4773",
   "metadata": {},
   "source": [
    "# Connect to EMAP star"
   ]
  },
  {
   "cell_type": "code",
   "execution_count": null,
   "id": "d420246c-030f-4ac4-9694-fb8f1d0ccc43",
   "metadata": {
    "execution": {
     "iopub.execute_input": "2021-09-21T22:50:33.524812Z",
     "iopub.status.busy": "2021-09-21T22:50:33.524011Z",
     "iopub.status.idle": "2021-09-21T22:50:33.530905Z",
     "shell.execute_reply": "2021-09-21T22:50:33.529942Z",
     "shell.execute_reply.started": "2021-09-21T22:50:33.524767Z"
    },
    "tags": []
   },
   "outputs": [],
   "source": [
    "from datetime import datetime, timedelta\n",
    "import os\n",
    "from pathlib import Path\n",
    "from pprint import pprint\n",
    "import urllib\n",
    "\n",
    "import arrow\n",
    "import matplotlib.pyplot as plt\n",
    "import numpy as np\n",
    "import pandas as pd\n",
    "from sqlalchemy import create_engine"
   ]
  },
  {
   "cell_type": "markdown",
   "id": "d285e846-182b-4c98-b793-642e0c42924f",
   "metadata": {},
   "source": [
    "EMAP credentials are allocated per user and not stored in the environment variables.\n",
    "You do not want your credentials to leak into the source repository.\n",
    "\n",
    "One way of safeguarding is to create a file called `secret` at the top level of your repository.   \n",
    "Do this here in Jupyter and not a local copy of the repo.  \n",
    "\n",
    "The first line should be your UDS **username** and the second line should be your UDS **password**.\n",
    "\n",
    "`secret` has been added to `.gitignore` and will be excluded from the repository."
   ]
  },
  {
   "cell_type": "code",
   "execution_count": null,
   "id": "3dd7c596-9dff-476e-bb33-ab8401b08883",
   "metadata": {
    "execution": {
     "iopub.execute_input": "2021-09-21T22:50:50.685327Z",
     "iopub.status.busy": "2021-09-21T22:50:50.685036Z",
     "iopub.status.idle": "2021-09-21T22:50:50.689378Z",
     "shell.execute_reply": "2021-09-21T22:50:50.688854Z",
     "shell.execute_reply.started": "2021-09-21T22:50:50.685301Z"
    },
    "tags": []
   },
   "outputs": [],
   "source": [
    "os.environ['EMAP_DB_USER'], os.environ['EMAP_DB_PASSWORD'] = Path('../../secret').read_text().strip().split('\\n')"
   ]
  },
  {
   "cell_type": "code",
   "execution_count": null,
   "id": "5163d673-37ab-43a7-a592-666bf16ed532",
   "metadata": {
    "execution": {
     "iopub.execute_input": "2021-09-21T22:52:12.280760Z",
     "iopub.status.busy": "2021-09-21T22:52:12.280415Z",
     "iopub.status.idle": "2021-09-21T22:52:12.285002Z",
     "shell.execute_reply": "2021-09-21T22:52:12.284332Z",
     "shell.execute_reply.started": "2021-09-21T22:52:12.280733Z"
    }
   },
   "outputs": [],
   "source": [
    "uds_host = os.getenv('EMAP_DB_HOST')\n",
    "uds_name = os.getenv('EMAP_DB_NAME')\n",
    "uds_port = os.getenv('EMAP_DB_PORT')\n",
    "uds_user = os.getenv('EMAP_DB_USER')\n",
    "uds_passwd = os.getenv('EMAP_DB_PASSWORD')"
   ]
  },
  {
   "cell_type": "code",
   "execution_count": null,
   "id": "4b9c6c82-cf87-4536-b331-c3ee80c59677",
   "metadata": {
    "execution": {
     "iopub.execute_input": "2021-09-21T22:52:39.233884Z",
     "iopub.status.busy": "2021-09-21T22:52:39.233554Z",
     "iopub.status.idle": "2021-09-21T22:52:39.266598Z",
     "shell.execute_reply": "2021-09-21T22:52:39.265886Z",
     "shell.execute_reply.started": "2021-09-21T22:52:39.233857Z"
    },
    "tags": []
   },
   "outputs": [],
   "source": [
    "emapdb_engine = create_engine(f'postgresql://{uds_user}:{uds_passwd}@{uds_host}:{uds_port}/{uds_name}')"
   ]
  },
  {
   "cell_type": "code",
   "execution_count": null,
   "id": "836347fe-7666-4df8-b174-6f782323deee",
   "metadata": {
    "execution": {
     "iopub.execute_input": "2021-09-21T22:57:38.715806Z",
     "iopub.status.busy": "2021-09-21T22:57:38.715454Z",
     "iopub.status.idle": "2021-09-21T22:57:38.725915Z",
     "shell.execute_reply": "2021-09-21T22:57:38.725030Z",
     "shell.execute_reply.started": "2021-09-21T22:57:38.715776Z"
    },
    "tags": []
   },
   "outputs": [],
   "source": [
    "vitals_df = pd.read_sql(\n",
    "    \"\"\"\n",
    "-- Example script showing how to work with observations\n",
    "\n",
    "-- V simple view that finds recent observations \n",
    "-- for current inpatients in the last few minutes\n",
    "\n",
    "\n",
    "SELECT\n",
    "  -- observation details\n",
    "   ob.visit_observation_id\n",
    "  ,ob.hospital_visit_id\n",
    "  ,ob.observation_datetime\n",
    "\n",
    "  --,ob.visit_observation_type_id\n",
    "  --,ot.id_in_application\n",
    "\n",
    "  -- label nicely\n",
    "  ,CASE \n",
    "    WHEN ot.id_in_application = '10' THEN 'SpO2'\n",
    "    WHEN ot.id_in_application = '5' THEN 'BP'\n",
    "    WHEN ot.id_in_application = '3040109304' THEN 'Oxygen'\n",
    "    WHEN ot.id_in_application = '6' THEN 'Temp'\n",
    "    WHEN ot.id_in_application = '8' THEN 'Pulse'\n",
    "    WHEN ot.id_in_application = '9' THEN 'Resp'\n",
    "    WHEN ot.id_in_application = '6466' THEN 'AVPU'\n",
    "\n",
    "  END AS vital\n",
    "\n",
    "  ,ob.value_as_real\n",
    "  ,ob.value_as_text\n",
    "  ,ob.unit \n",
    "  \n",
    "FROM\n",
    "  star.visit_observation ob\n",
    "-- observation look-up\n",
    "LEFT JOIN\n",
    "  star.visit_observation_type ot\n",
    "  on ob.visit_observation_type_id = ot.visit_observation_type_id\n",
    "\n",
    "WHERE\n",
    "ob.observation_datetime > NOW() - '5 MINS'::INTERVAL\t\n",
    "AND\n",
    "ot.id_in_application in \n",
    "\n",
    "  (\n",
    "  '10'            --'SpO2'                  -- 602063230\n",
    "  ,'5'            --'BP'                    -- 602063234\n",
    "  ,'3040109304'   --'Room Air or Oxygen'    -- 602063268\n",
    "  ,'6'            --'Temp'                  -- 602063248\n",
    "  ,'8'            --'Pulse'                 -- 602063237\n",
    "  ,'9'            --'Resp'                  -- 602063257\n",
    "  ,'6466'         -- Level of consciousness\n",
    ")\n",
    "ORDER BY ob.observation_datetime DESC\n",
    ";\n",
    "    \"\"\",\n",
    "    emapdb_engine\n",
    ")"
   ]
  },
  {
   "cell_type": "code",
   "execution_count": null,
   "id": "1316e91f-cf6a-4643-b0a2-6d7f07d906cd",
   "metadata": {
    "execution": {
     "iopub.execute_input": "2021-09-21T22:57:49.909286Z",
     "iopub.status.busy": "2021-09-21T22:57:49.908840Z",
     "iopub.status.idle": "2021-09-21T22:57:49.924621Z",
     "shell.execute_reply": "2021-09-21T22:57:49.923746Z",
     "shell.execute_reply.started": "2021-09-21T22:57:49.909257Z"
    },
    "tags": []
   },
   "outputs": [],
   "source": [
    "vitals_df"
   ]
  },
  {
   "cell_type": "code",
   "execution_count": null,
   "id": "11f26c52-bf3f-44e4-b809-d593fcedf316",
   "metadata": {},
   "outputs": [],
   "source": []
  }
 ],
 "metadata": {
  "kernelspec": {
   "display_name": "Python 3",
   "language": "python",
   "name": "python3"
  },
  "language_info": {
   "codemirror_mode": {
    "name": "ipython",
    "version": 3
   },
   "file_extension": ".py",
   "mimetype": "text/x-python",
   "name": "python",
   "nbconvert_exporter": "python",
   "pygments_lexer": "ipython3",
   "version": "3.8.10"
  }
 },
 "nbformat": 4,
 "nbformat_minor": 5
}
